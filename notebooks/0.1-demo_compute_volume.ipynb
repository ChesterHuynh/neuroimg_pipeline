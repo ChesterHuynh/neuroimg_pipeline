{
 "cells": [
  {
   "cell_type": "markdown",
   "metadata": {},
   "source": [
    "# Demo of Computing Volume From Freesurfer Stats Files"
   ]
  },
  {
   "cell_type": "code",
   "execution_count": 2,
   "metadata": {},
   "outputs": [],
   "source": [
    "import numpy as np\n",
    "import os\n",
    "import sys\n",
    "import pandas as pd\n",
    "import numpy as np\n",
    "import nibabel as nb"
   ]
  },
  {
   "cell_type": "code",
   "execution_count": 3,
   "metadata": {},
   "outputs": [],
   "source": [
    "# data directory of stats files\n",
    "patid = 'la03'\n",
    "datadir = os.path.join(\"/Users/adam2392/Dropbox/phd_research/data/neuroimaging_results/freesurfer_output/\", patid)\n",
    "\n",
    "statsdir = os.path.join(datadir, \"stats\")"
   ]
  },
  {
   "cell_type": "code",
   "execution_count": 6,
   "metadata": {},
   "outputs": [],
   "source": [
    "# extract arguments from parser\n",
    "lh_atlas_stats_file = os.path.join(statsdir, \"lh.aparc.stats\")\n",
    "rh_atlas_stats_file = os.path.join(statsdir, \"rh.aparc.stats\")\n",
    "wm_stats_file = os.path.join(statsdir, \"wmparc.stats\")\n",
    "\n",
    "trglutfile = os.path.join(\"/Users/adam2392/Documents/neuroimg_pipeline/data/mrtrix3_labelconvert\", \"fs_default.txt\")\n",
    "srclutfile = os.path.join(\"/Users/adam2392/Documents/neuroimg_pipeline/data/\n",
    "outdir = \"./\""
   ]
  },
  {
   "cell_type": "markdown",
   "metadata": {},
   "source": [
    "# Read in Files"
   ]
  },
  {
   "cell_type": "code",
   "execution_count": 9,
   "metadata": {},
   "outputs": [],
   "source": [
    "table = np.genfromtxt(os.fspath(lutfile), encoding=\"latin1\", dtype=None)\n",
    "if len(table.dtype) == 6:\n",
    "    # id name R G B A\n",
    "    inds = table[table.dtype.names[0]]\n",
    "    names = table[table.dtype.names[1]].astype('U')\n",
    "    r = table[table.dtype.names[2]]\n",
    "    g = table[table.dtype.names[3]]\n",
    "    b = table[table.dtype.names[4]]\n",
    "    a = table[table.dtype.names[5]]\n",
    "    shortnames = np.zeros(len(self.names), dtype='U')\n",
    "\n",
    "elif len(table.dtype) == 7:\n",
    "    # id shortname name R G B A\n",
    "    inds = table[table.dtype.names[0]]\n",
    "    shortnames = table[table.dtype.names[1]].astype('U')\n",
    "    names = table[table.dtype.names[2]].astype('U')\n",
    "    r = table[table.dtype.names[3]]\n",
    "    g = table[table.dtype.names[4]]\n",
    "    b = table[table.dtype.names[5]]\n",
    "    a = table[table.dtype.names[6]]"
   ]
  },
  {
   "cell_type": "code",
   "execution_count": 10,
   "metadata": {},
   "outputs": [
    {
     "name": "stdout",
     "output_type": "stream",
     "text": [
      "[( 0, '???', 'Unknown',   0,   0,   0,   0)\n",
      " ( 1, 'L.BSTS', 'ctx-lh-bankssts',  25, 100,  40, 255)\n",
      " ( 2, 'L.CACG', 'ctx-lh-caudalanteriorcingulate', 125, 100, 160, 255)\n",
      " ( 3, 'L.CMFG', 'ctx-lh-caudalmiddlefrontal', 100,  25,   0, 255)\n",
      " ( 4, 'L.CU', 'ctx-lh-cuneus', 220,  20, 100, 255)\n",
      " ( 5, 'L.EC', 'ctx-lh-entorhinal', 220,  20,  10, 255)\n",
      " ( 6, 'L.FG', 'ctx-lh-fusiform', 180, 220, 140, 255)\n",
      " ( 7, 'L.IPG', 'ctx-lh-inferiorparietal', 220,  60, 220, 255)\n",
      " ( 8, 'L.ITG', 'ctx-lh-inferiortemporal', 180,  40, 120, 255)\n",
      " ( 9, 'L.ICG', 'ctx-lh-isthmuscingulate', 140,  20, 140, 255)\n",
      " (10, 'L.LOG', 'ctx-lh-lateraloccipital',  20,  30, 140, 255)\n",
      " (11, 'L.LOFG', 'ctx-lh-lateralorbitofrontal',  35,  75,  50, 255)\n",
      " (12, 'L.LG', 'ctx-lh-lingual', 225, 140, 140, 255)\n",
      " (13, 'L.MOFG', 'ctx-lh-medialorbitofrontal', 200,  35,  75, 255)\n",
      " (14, 'L.MTG', 'ctx-lh-middletemporal', 160, 100,  50, 255)\n",
      " (15, 'L.PHIG', 'ctx-lh-parahippocampal',  20, 220,  60, 255)\n",
      " (16, 'L.PaCG', 'ctx-lh-paracentral',  60, 220,  60, 255)\n",
      " (17, 'L.POP', 'ctx-lh-parsopercularis', 220, 180, 140, 255)\n",
      " (18, 'L.POR', 'ctx-lh-parsorbitalis',  20, 100,  50, 255)\n",
      " (19, 'L.PTR', 'ctx-lh-parstriangularis', 220,  60,  20, 255)\n",
      " (20, 'L.PCAL', 'ctx-lh-pericalcarine', 120, 100,  60, 255)\n",
      " (21, 'L.PoCG', 'ctx-lh-postcentral', 220,  20,  20, 255)\n",
      " (22, 'L.PCG', 'ctx-lh-posteriorcingulate', 220, 180, 220, 255)\n",
      " (23, 'L.PrCG', 'ctx-lh-precentral',  60,  20, 220, 255)\n",
      " (24, 'L.PCU', 'ctx-lh-precuneus', 160, 140, 180, 255)\n",
      " (25, 'L.RACG', 'ctx-lh-rostralanteriorcingulate',  80,  20, 140, 255)\n",
      " (26, 'L.RMFG', 'ctx-lh-rostralmiddlefrontal',  75,  50, 125, 255)\n",
      " (27, 'L.SFG', 'ctx-lh-superiorfrontal',  20, 220, 160, 255)\n",
      " (28, 'L.SPG', 'ctx-lh-superiorparietal',  20, 180, 140, 255)\n",
      " (29, 'L.STG', 'ctx-lh-superiortemporal', 140, 220, 220, 255)\n",
      " (30, 'L.SMG', 'ctx-lh-supramarginal',  80, 160,  20, 255)\n",
      " (31, 'L.FP', 'ctx-lh-frontalpole', 100,   0, 100, 255)\n",
      " (32, 'L.TP', 'ctx-lh-temporalpole',  70,  70,  70, 255)\n",
      " (33, 'L.TTG', 'ctx-lh-transversetemporal', 150, 150, 200, 255)\n",
      " (34, 'L.IN', 'ctx-lh-insula', 255, 192,  32, 255)\n",
      " (35, 'L.CER', 'Left-Cerebellum-Cortex', 230, 148,  34, 255)\n",
      " (36, 'L.TH', 'Left-Thalamus-Proper',   0, 118,  14, 255)\n",
      " (37, 'L.CA', 'Left-Caudate', 122, 186, 220, 255)\n",
      " (38, 'L.PU', 'Left-Putamen', 236,  13, 176, 255)\n",
      " (39, 'L.PA', 'Left-Pallidum',  12,  48, 255, 255)\n",
      " (40, 'L.HI', 'Left-Hippocampus', 220, 216,  20, 255)\n",
      " (41, 'L.AM', 'Left-Amygdala', 103, 255, 255, 255)\n",
      " (42, 'L.AC', 'Left-Accumbens-area', 255, 165,   0, 255)\n",
      " (43, 'R.TH', 'Right-Thalamus-Proper',   0, 118,  14, 255)\n",
      " (44, 'R.CA', 'Right-Caudate', 122, 186, 220, 255)\n",
      " (45, 'R.PU', 'Right-Putamen', 236,  13, 176, 255)\n",
      " (46, 'R.PA', 'Right-Pallidum',  13,  48, 255, 255)\n",
      " (47, 'R.HI', 'Right-Hippocampus', 220, 216,  20, 255)\n",
      " (48, 'R.AM', 'Right-Amygdala', 103, 255, 255, 255)\n",
      " (49, 'R.AC', 'Right-Accumbens-area', 255, 165,   0, 255)\n",
      " (50, 'R.BSTS', 'ctx-rh-bankssts',  25, 100,  40, 255)\n",
      " (51, 'R.CACG', 'ctx-rh-caudalanteriorcingulate', 125, 100, 160, 255)\n",
      " (52, 'R.CMFG', 'ctx-rh-caudalmiddlefrontal', 100,  25,   0, 255)\n",
      " (53, 'R.CU', 'ctx-rh-cuneus', 220,  20, 100, 255)\n",
      " (54, 'R.EC', 'ctx-rh-entorhinal', 220,  20,  10, 255)\n",
      " (55, 'R.FG', 'ctx-rh-fusiform', 180, 220, 140, 255)\n",
      " (56, 'R.IPG', 'ctx-rh-inferiorparietal', 220,  60, 220, 255)\n",
      " (57, 'R.ITG', 'ctx-rh-inferiortemporal', 180,  40, 120, 255)\n",
      " (58, 'R.ICG', 'ctx-rh-isthmuscingulate', 140,  20, 140, 255)\n",
      " (59, 'R.LOG', 'ctx-rh-lateraloccipital',  20,  30, 140, 255)\n",
      " (60, 'R.LOFG', 'ctx-rh-lateralorbitofrontal',  35,  75,  50, 255)\n",
      " (61, 'R.LG', 'ctx-rh-lingual', 225, 140, 140, 255)\n",
      " (62, 'R.MOFG', 'ctx-rh-medialorbitofrontal', 200,  35,  75, 255)\n",
      " (63, 'R.MTG', 'ctx-rh-middletemporal', 160, 100,  50, 255)\n",
      " (64, 'R.PHIG', 'ctx-rh-parahippocampal',  20, 220,  60, 255)\n",
      " (65, 'R.PaCG', 'ctx-rh-paracentral',  60, 220,  60, 255)\n",
      " (66, 'R.POP', 'ctx-rh-parsopercularis', 220, 180, 140, 255)\n",
      " (67, 'R.POR', 'ctx-rh-parsorbitalis',  20, 100,  50, 255)\n",
      " (68, 'R.PTR', 'ctx-rh-parstriangularis', 220,  60,  20, 255)\n",
      " (69, 'R.PCAL', 'ctx-rh-pericalcarine', 120, 100,  60, 255)\n",
      " (70, 'R.PoCG', 'ctx-rh-postcentral', 220,  20,  20, 255)\n",
      " (71, 'R.PCG', 'ctx-rh-posteriorcingulate', 220, 180, 220, 255)\n",
      " (72, 'R.PrCG', 'ctx-rh-precentral',  60,  20, 220, 255)\n",
      " (73, 'R.PCU', 'ctx-rh-precuneus', 160, 140, 180, 255)\n",
      " (74, 'R.RACG', 'ctx-rh-rostralanteriorcingulate',  80,  20, 140, 255)\n",
      " (75, 'R.RMFG', 'ctx-rh-rostralmiddlefrontal',  75,  50, 125, 255)\n",
      " (76, 'R.SFG', 'ctx-rh-superiorfrontal',  20, 220, 160, 255)\n",
      " (77, 'R.SPG', 'ctx-rh-superiorparietal',  20, 180, 140, 255)\n",
      " (78, 'R.STG', 'ctx-rh-superiortemporal', 140, 220, 220, 255)\n",
      " (79, 'R.SMG', 'ctx-rh-supramarginal',  80, 160,  20, 255)\n",
      " (80, 'R.FP', 'ctx-rh-frontalpole', 100,   0, 100, 255)\n",
      " (81, 'R.TP', 'ctx-rh-temporalpole',  70,  70,  70, 255)\n",
      " (82, 'R.TTG', 'ctx-rh-transversetemporal', 150, 150, 200, 255)\n",
      " (83, 'R.IN', 'ctx-rh-insula', 255, 192,  32, 255)\n",
      " (84, 'R.CER', 'Right-Cerebellum-Cortex', 230, 148,  34, 255)]\n"
     ]
    }
   ],
   "source": [
    "print(table)"
   ]
  },
  {
   "cell_type": "code",
   "execution_count": null,
   "metadata": {},
   "outputs": [],
   "source": []
  }
 ],
 "metadata": {
  "kernelspec": {
   "display_name": "neuroimg",
   "language": "python",
   "name": "neuroimg"
  },
  "language_info": {
   "codemirror_mode": {
    "name": "ipython",
    "version": 3
   },
   "file_extension": ".py",
   "mimetype": "text/x-python",
   "name": "python",
   "nbconvert_exporter": "python",
   "pygments_lexer": "ipython3",
   "version": "3.7.1"
  }
 },
 "nbformat": 4,
 "nbformat_minor": 2
}
